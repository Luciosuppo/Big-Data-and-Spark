{
 "cells": [
  {
   "cell_type": "code",
   "execution_count": 3,
   "metadata": {},
   "outputs": [],
   "source": [
    "import findspark\n",
    "\n",
    "findspark.init()\n",
    "\n",
    "from pyspark.sql import SparkSession\n",
    "\n",
    "spark = SparkSession.builder.getOrCreate()\n",
    "\n",
    "from pyspark.sql.functions import *"
   ]
  },
  {
   "attachments": {},
   "cell_type": "markdown",
   "metadata": {},
   "source": [
    "### 1. Determine los tres países con mayor número de jugadores(jugadores nacidos en ese país). El resultado debe estar ordenado de forma descendente."
   ]
  },
  {
   "cell_type": "code",
   "execution_count": 4,
   "metadata": {},
   "outputs": [
    {
     "name": "stderr",
     "output_type": "stream",
     "text": [
      "                                                                                \r"
     ]
    }
   ],
   "source": [
    "players = spark.read.option('header','true').option('inferSchema', 'true').csv('./data_exc/players.csv')\n",
    "app = spark.read.option('header','true').option('inferSchema', 'true').csv('./data_exc/appearances.csv')\n",
    "competition =spark.read.option('header','true').option('inferSchema', 'true').csv('./data_exc/competitions.csv')\n",
    "games = spark.read.option('header','true').option('inferSchema', 'true').csv('./data_exc/games.csv')"
   ]
  },
  {
   "attachments": {},
   "cell_type": "markdown",
   "metadata": {},
   "source": [
    "### 2. Obtenga la lista de jugadores con tarjeta roja. La salida debe contener dos columnas, el nombre de pila del jugador y la cantidad de tarjetas rojas que tiene."
   ]
  },
  {
   "cell_type": "code",
   "execution_count": 34,
   "metadata": {},
   "outputs": [
    {
     "name": "stdout",
     "output_type": "stream",
     "text": [
      "+--------------------+-----+\n",
      "|         pretty_name|count|\n",
      "+--------------------+-----+\n",
      "|Dimitrios Chatzii...|    1|\n",
      "|  Oleksandr Vasyliev|    1|\n",
      "|   Kevin Van Diermen|    1|\n",
      "|         Axel Witsel|    1|\n",
      "|     Haris Seferovic|    2|\n",
      "|      Francis Dickoh|    1|\n",
      "|     Steven Thompson|    1|\n",
      "|     Pele Van Anholt|    1|\n",
      "|    Fedor Kudryashov|    3|\n",
      "|       Armend Dallku|    1|\n",
      "|          Ivan Ramis|    2|\n",
      "|   Aleksandar Pantic|    1|\n",
      "|          Mark Brown|    1|\n",
      "|       Rick Karsdorp|    2|\n",
      "|     Sotiris Balafas|    2|\n",
      "|        Davy Propper|    2|\n",
      "|         Pierre Webo|    1|\n",
      "|        Kiko Casilla|    1|\n",
      "|         Berat Tosun|    1|\n",
      "| Grzegorz Krychowiak|    3|\n",
      "+--------------------+-----+\n",
      "only showing top 20 rows\n",
      "\n"
     ]
    }
   ],
   "source": [
    "players.join(app, ['player_id']).select('player_id', 'pretty_name', 'red_cards').where(col('red_cards') != 0).groupBy('pretty_name').count().show()\n",
    "#orderBy(count('pretty_name').desc())."
   ]
  },
  {
   "attachments": {},
   "cell_type": "markdown",
   "metadata": {},
   "source": [
    "### 3. ¿Cuántos juegos se jugaron en la Premier League? La salida debe contener dos columnas, el nombre de la liga y la cantidad de juegos que se jugaron en ella."
   ]
  },
  {
   "cell_type": "code",
   "execution_count": 37,
   "metadata": {},
   "outputs": [
    {
     "name": "stdout",
     "output_type": "stream",
     "text": [
      "root\n",
      " |-- competition_id: string (nullable = true)\n",
      " |-- name: string (nullable = true)\n",
      " |-- type: string (nullable = true)\n",
      " |-- country_id: integer (nullable = true)\n",
      " |-- country_name: string (nullable = true)\n",
      " |-- domestic_league_code: string (nullable = true)\n",
      " |-- confederation: string (nullable = true)\n",
      " |-- url: string (nullable = true)\n",
      "\n",
      "root\n",
      " |-- game_id: integer (nullable = true)\n",
      " |-- competition_code: string (nullable = true)\n",
      " |-- season: integer (nullable = true)\n",
      " |-- round: string (nullable = true)\n",
      " |-- date: timestamp (nullable = true)\n",
      " |-- home_club_id: integer (nullable = true)\n",
      " |-- away_club_id: integer (nullable = true)\n",
      " |-- home_club_goals: integer (nullable = true)\n",
      " |-- away_club_goals: integer (nullable = true)\n",
      " |-- home_club_position: integer (nullable = true)\n",
      " |-- away_club_position: integer (nullable = true)\n",
      " |-- stadium: string (nullable = true)\n",
      " |-- attendance: integer (nullable = true)\n",
      " |-- referee: string (nullable = true)\n",
      " |-- url: string (nullable = true)\n",
      "\n"
     ]
    }
   ],
   "source": [
    "competition.printSchema()\n",
    "games.printSchema()"
   ]
  },
  {
   "cell_type": "code",
   "execution_count": 53,
   "metadata": {},
   "outputs": [
    {
     "name": "stdout",
     "output_type": "stream",
     "text": [
      "+--------------+-----+\n",
      "|          name|count|\n",
      "+--------------+-----+\n",
      "|premier-league| 2809|\n",
      "+--------------+-----+\n",
      "\n"
     ]
    }
   ],
   "source": [
    "competition.join(games, col('competition_id') == col('competition_code')).groupBy('name').count().where(col('name')=='premier-league').show()\n",
    "# competition.distinct().show()"
   ]
  },
  {
   "attachments": {},
   "cell_type": "markdown",
   "metadata": {},
   "source": [
    "### 4. Obtenga las tres ligas con mayor número de asistencia de público teniendo en cuenta todos los juegos que se jugaron en ellas. El resultado debe estar ordenado de forma descendente y tener dos columnas, el nombre de la liga y la asistencia total."
   ]
  },
  {
   "cell_type": "code",
   "execution_count": 67,
   "metadata": {},
   "outputs": [
    {
     "name": "stdout",
     "output_type": "stream",
     "text": [
      "+--------------------+---------------+\n",
      "|                name|sum(attendance)|\n",
      "+--------------------+---------------+\n",
      "|      premier-league|       86964852|\n",
      "|          bundesliga|       78102473|\n",
      "|              laliga|       62943533|\n",
      "|             serie-a|       53475147|\n",
      "|             ligue-1|       51593963|\n",
      "|uefa-champions-le...|       35154225|\n",
      "|          eredivisie|       34572418|\n",
      "|       europa-league|       28710888|\n",
      "|        premier-liga|       25823581|\n",
      "|  liga-portugal-bwin|       20072843|\n",
      "|  jupiler-pro-league|       17817099|\n",
      "|           super-lig|       17455236|\n",
      "|scottish-premiership|       17379753|\n",
      "|europa-league-qua...|       12810167|\n",
      "|uefa-champions-le...|        9479701|\n",
      "|             efl-cup|        9162166|\n",
      "|           dfb-pokal|        8404075|\n",
      "|         superligaen|        7945555|\n",
      "|        copa-del-rey|        7052640|\n",
      "|      super-league-1|        6417136|\n",
      "+--------------------+---------------+\n",
      "only showing top 20 rows\n",
      "\n"
     ]
    }
   ],
   "source": [
    "# games.groupBy('competition_code').sum('attendance').show()\n",
    "competition.join(games, col('competition_id') == col('competition_code')).groupBy('name').sum('attendance').orderBy(col('sum(attendance)').desc()).show()  #attendance"
   ]
  }
 ],
 "metadata": {
  "kernelspec": {
   "display_name": "Python 3",
   "language": "python",
   "name": "python3"
  },
  "language_info": {
   "codemirror_mode": {
    "name": "ipython",
    "version": 3
   },
   "file_extension": ".py",
   "mimetype": "text/x-python",
   "name": "python",
   "nbconvert_exporter": "python",
   "pygments_lexer": "ipython3",
   "version": "3.10.7"
  },
  "orig_nbformat": 4,
  "vscode": {
   "interpreter": {
    "hash": "e7370f93d1d0cde622a1f8e1c04877d8463912d04d973331ad4851f04de6915a"
   }
  }
 },
 "nbformat": 4,
 "nbformat_minor": 2
}
