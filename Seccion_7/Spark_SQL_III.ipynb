{
 "cells": [
  {
   "cell_type": "code",
   "execution_count": 2,
   "metadata": {},
   "outputs": [],
   "source": [
    "import findspark\n",
    "\n",
    "findspark.init()\n",
    "\n",
    "from pyspark.sql import SparkSession\n",
    "\n",
    "spark = SparkSession.builder.getOrCreate()"
   ]
  },
  {
   "cell_type": "code",
   "execution_count": 3,
   "metadata": {},
   "outputs": [],
   "source": [
    "from pyspark.sql.functions import *"
   ]
  },
  {
   "attachments": {},
   "cell_type": "markdown",
   "metadata": {},
   "source": [
    "### withColumn"
   ]
  },
  {
   "cell_type": "code",
   "execution_count": 11,
   "metadata": {},
   "outputs": [],
   "source": [
    "df = spark.read.parquet('./data_2/datos.parquet')"
   ]
  },
  {
   "cell_type": "code",
   "execution_count": 10,
   "metadata": {},
   "outputs": [
    {
     "name": "stdout",
     "output_type": "stream",
     "text": [
      "root\n",
      " |-- video_id: string (nullable = true)\n",
      " |-- trending_date: string (nullable = true)\n",
      " |-- title: string (nullable = true)\n",
      " |-- channel_title: string (nullable = true)\n",
      " |-- category_id: string (nullable = true)\n",
      " |-- publish_time: timestamp (nullable = true)\n",
      " |-- tags: string (nullable = true)\n",
      " |-- views: integer (nullable = true)\n",
      " |-- likes: integer (nullable = true)\n",
      " |-- dislikes: integer (nullable = true)\n",
      " |-- comment_count: integer (nullable = true)\n",
      " |-- thumbnail_link: string (nullable = true)\n",
      " |-- comments_disabled: string (nullable = true)\n",
      " |-- ratings_disabled: string (nullable = true)\n",
      " |-- video_error_or_removed: string (nullable = true)\n",
      " |-- description: string (nullable = true)\n",
      " |-- valoracion: integer (nullable = true)\n",
      "\n",
      "+-----------+-------------+--------------------+--------------------+-----------+-------------------+--------------------+-------+------+--------+-------------+--------------------+-----------------+----------------+----------------------+--------------------+----------+\n",
      "|   video_id|trending_date|               title|       channel_title|category_id|       publish_time|                tags|  views| likes|dislikes|comment_count|      thumbnail_link|comments_disabled|ratings_disabled|video_error_or_removed|         description|valoracion|\n",
      "+-----------+-------------+--------------------+--------------------+-----------+-------------------+--------------------+-------+------+--------+-------------+--------------------+-----------------+----------------+----------------------+--------------------+----------+\n",
      "|2kyS6SvSYSE|     17.14.11|WE WANT TO TALK A...|        CaseyNeistat|         22|2017-11-13 14:13:01|     SHANtell martin| 748374| 57527|    2966|        15954|https://i.ytimg.c...|            False|           False|                 False|SHANTELL'S CHANNE...|     54561|\n",
      "|1ZAPwfrtAFY|     17.14.11|The Trump Preside...|     LastWeekTonight|         24|2017-11-13 04:30:00|\"last week tonigh...|2418783| 97185|    6146|        12703|https://i.ytimg.c...|            False|           False|                 False|One year after th...|     91039|\n",
      "|5qpjK5DgCt4|     17.14.11|Racist Superman |...|        Rudy Mancuso|         23|2017-11-12 16:05:24|\"racist superman\"...|3191434|146033|    5339|         8181|https://i.ytimg.c...|            False|           False|                 False|WATCH MY PREVIOUS...|    140694|\n",
      "|puqaWrEC7tY|     17.14.11|Nickelback Lyrics...|Good Mythical Mor...|         24|2017-11-13 08:00:04|\"rhett and link\"|...| 343168| 10172|     666|         2146|https://i.ytimg.c...|            False|           False|                 False|Today we find out...|      9506|\n",
      "|d380meD0W0M|     17.14.11|I Dare You: GOING...|            nigahiga|         24|2017-11-12 15:01:41|\"ryan\"|\"higa\"|\"hi...|2095731|132235|    1989|        17518|https://i.ytimg.c...|            False|           False|                 False|I know it's been ...|    130246|\n",
      "|gHZ1Qz0KiKM|     17.14.11|2 Weeks with iPho...|            iJustine|         28|2017-11-13 16:07:23|\"ijustine\"|\"week ...| 119180|  9763|     511|         1434|https://i.ytimg.c...|            False|           False|                 False|Using the iPhone ...|      9252|\n",
      "|39idVpFF7NQ|     17.14.11|Roy Moore & Jeff ...| Saturday Night Live|         24|2017-11-12 02:37:17|\"SNL\"|\"Saturday N...|2103417| 15993|    2445|         1970|https://i.ytimg.c...|            False|           False|                 False|Embattled Alabama...|     13548|\n",
      "|nc99ccSXST0|     17.14.11|5 Ice Cream Gadge...|  CrazyRussianHacker|         28|2017-11-12 18:50:37|\"5 Ice Cream Gadg...| 817732| 23663|     778|         3432|https://i.ytimg.c...|            False|           False|                 False|Ice Cream Pint Co...|     22885|\n",
      "|jr9QtXwC9vc|     17.14.11|The Greatest Show...|    20th Century Fox|          1|2017-11-13 11:00:23|\"Trailer\"|\"Hugh J...| 826059|  3543|     119|          340|https://i.ytimg.c...|            False|           False|                 False|Inspired by the i...|      3424|\n",
      "|TUmyygCMMGA|     17.14.11|Why the rise of t...|                 Vox|         25|2017-11-13 10:45:16|\"vox.com\"|\"vox\"|\"...| 256426| 12654|    1363|         2368|https://i.ytimg.c...|            False|           False|                 False|For now, at least...|     11291|\n",
      "|9wRQljFNDW8|     17.14.11|Dion Lewis' 103-Y...|                 NFL|         17|2017-11-12 23:05:26|\"NFL\"|\"Football\"|...|  81377|   655|      25|          177|https://i.ytimg.c...|            False|           False|                 False|New England Patri...|       630|\n",
      "|VifQlJit6A0|     17.14.11|(SPOILERS) 'Shiva...|                 amc|         24|2017-11-13 00:00:00|\"The Walking Dead...| 104578|  1576|     303|         1279|https://i.ytimg.c...|            False|           False|                 False|Shiva arrives jus...|      1273|\n",
      "|5E4ZBSInqUU|     17.14.11|Marshmello - Bloc...|          marshmello|         10|2017-11-13 14:00:00|\"marshmello\"|\"blo...| 687582|114188|    1333|         8371|https://i.ytimg.c...|            False|           False|                 False|WATCH SILENCE MUS...|    112855|\n",
      "|GgVmn66oK_A|     17.14.11|Which Countries A...|       NowThis World|         25|2017-11-12 11:00:00|\"nowthis\"|\"nowthi...| 544770|  7848|    1171|         3981|https://i.ytimg.c...|            False|           False|                 False|The world at larg...|      6677|\n",
      "|TaTleo4cOs8|     17.14.11|SHOPPING FOR NEW ...|     The king of DIY|         15|2017-11-12 15:30:01|\"shopping for new...| 207532|  7473|     246|         2120|https://i.ytimg.c...|            False|           False|                 False|Today we go shopp...|      7227|\n",
      "|kgaO45SyaO4|     17.14.11|    The New SpotMini|      BostonDynamics|         28|2017-11-13 17:09:58|\"Robots\"|\"Boston ...|  75752|  9419|      52|         1230|https://i.ytimg.c...|            False|           False|                 False|For more informat...|      9367|\n",
      "|ZAQs-ctOqXQ|     17.14.11|One Change That W...|             Cracked|         23|2017-11-12 14:00:05|\"pacific rim\"|\"pa...| 295639|  8011|     638|         1256|https://i.ytimg.c...|            False|           False|                 False|Pacific Rim was s...|      7373|\n",
      "|YVfyYrEmzgM|     17.14.11|How does your bod...|              TED-Ed|         27|2017-11-13 13:00:07|\"TED\"|\"TED-Ed\"|\"T...|  78044|  5398|      53|          385|https://i.ytimg.c...|            False|           False|                 False|Check out our Pat...|      5345|\n",
      "|eNSN6qet1kE|     17.14.11|HomeMade Electric...|         PeterSripol|         28|2017-11-13 12:30:17|\"ultralight\"|\"air...|  97007| 11963|      36|         2211|https://i.ytimg.c...|            False|           False|                 False|aaaannnd now to f...|     11927|\n",
      "|B5HORANmzHw|     17.14.11|Founding An Inbre...|             SciShow|         27|2017-11-12 19:00:01|\"SciShow\"|\"scienc...| 223871|  8421|     191|         1214|https://i.ytimg.c...|            False|           False|                 False|Thanks to 23AndMe...|      8230|\n",
      "+-----------+-------------+--------------------+--------------------+-----------+-------------------+--------------------+-------+------+--------+-------------+--------------------+-----------------+----------------+----------------------+--------------------+----------+\n",
      "only showing top 20 rows\n",
      "\n"
     ]
    }
   ],
   "source": [
    "df_valoracion = df.withColumn('valoracion', col('likes') - col('dislikes'))\n",
    "df_valoracion.printSchema()\n",
    "df_valoracion.show()"
   ]
  },
  {
   "cell_type": "code",
   "execution_count": 12,
   "metadata": {},
   "outputs": [
    {
     "name": "stdout",
     "output_type": "stream",
     "text": [
      "root\n",
      " |-- video_id: string (nullable = true)\n",
      " |-- trending_date: string (nullable = true)\n",
      " |-- title: string (nullable = true)\n",
      " |-- channel_title: string (nullable = true)\n",
      " |-- category_id: string (nullable = true)\n",
      " |-- publish_time: timestamp (nullable = true)\n",
      " |-- tags: string (nullable = true)\n",
      " |-- views: integer (nullable = true)\n",
      " |-- likes: integer (nullable = true)\n",
      " |-- dislikes: integer (nullable = true)\n",
      " |-- comment_count: integer (nullable = true)\n",
      " |-- thumbnail_link: string (nullable = true)\n",
      " |-- comments_disabled: string (nullable = true)\n",
      " |-- ratings_disabled: string (nullable = true)\n",
      " |-- video_error_or_removed: string (nullable = true)\n",
      " |-- description: string (nullable = true)\n",
      " |-- valoracion: integer (nullable = true)\n",
      " |-- res_div: integer (nullable = true)\n",
      "\n",
      "+-----------+-------------+--------------------+--------------------+-----------+-------------------+--------------------+-------+------+--------+-------------+--------------------+-----------------+----------------+----------------------+--------------------+----------+-------+\n",
      "|   video_id|trending_date|               title|       channel_title|category_id|       publish_time|                tags|  views| likes|dislikes|comment_count|      thumbnail_link|comments_disabled|ratings_disabled|video_error_or_removed|         description|valoracion|res_div|\n",
      "+-----------+-------------+--------------------+--------------------+-----------+-------------------+--------------------+-------+------+--------+-------------+--------------------+-----------------+----------------+----------------------+--------------------+----------+-------+\n",
      "|2kyS6SvSYSE|     17.14.11|WE WANT TO TALK A...|        CaseyNeistat|         22|2017-11-13 14:13:01|     SHANtell martin| 748374| 57527|    2966|        15954|https://i.ytimg.c...|            False|           False|                 False|SHANTELL'S CHANNE...|     54561|      1|\n",
      "|1ZAPwfrtAFY|     17.14.11|The Trump Preside...|     LastWeekTonight|         24|2017-11-13 04:30:00|\"last week tonigh...|2418783| 97185|    6146|        12703|https://i.ytimg.c...|            False|           False|                 False|One year after th...|     91039|      9|\n",
      "|5qpjK5DgCt4|     17.14.11|Racist Superman |...|        Rudy Mancuso|         23|2017-11-12 16:05:24|\"racist superman\"...|3191434|146033|    5339|         8181|https://i.ytimg.c...|            False|           False|                 False|WATCH MY PREVIOUS...|    140694|      4|\n",
      "|puqaWrEC7tY|     17.14.11|Nickelback Lyrics...|Good Mythical Mor...|         24|2017-11-13 08:00:04|\"rhett and link\"|...| 343168| 10172|     666|         2146|https://i.ytimg.c...|            False|           False|                 False|Today we find out...|      9506|      6|\n",
      "|d380meD0W0M|     17.14.11|I Dare You: GOING...|            nigahiga|         24|2017-11-12 15:01:41|\"ryan\"|\"higa\"|\"hi...|2095731|132235|    1989|        17518|https://i.ytimg.c...|            False|           False|                 False|I know it's been ...|    130246|      6|\n",
      "|gHZ1Qz0KiKM|     17.14.11|2 Weeks with iPho...|            iJustine|         28|2017-11-13 16:07:23|\"ijustine\"|\"week ...| 119180|  9763|     511|         1434|https://i.ytimg.c...|            False|           False|                 False|Using the iPhone ...|      9252|      2|\n",
      "|39idVpFF7NQ|     17.14.11|Roy Moore & Jeff ...| Saturday Night Live|         24|2017-11-12 02:37:17|\"SNL\"|\"Saturday N...|2103417| 15993|    2445|         1970|https://i.ytimg.c...|            False|           False|                 False|Embattled Alabama...|     13548|      8|\n",
      "|nc99ccSXST0|     17.14.11|5 Ice Cream Gadge...|  CrazyRussianHacker|         28|2017-11-12 18:50:37|\"5 Ice Cream Gadg...| 817732| 23663|     778|         3432|https://i.ytimg.c...|            False|           False|                 False|Ice Cream Pint Co...|     22885|      5|\n",
      "|jr9QtXwC9vc|     17.14.11|The Greatest Show...|    20th Century Fox|          1|2017-11-13 11:00:23|\"Trailer\"|\"Hugh J...| 826059|  3543|     119|          340|https://i.ytimg.c...|            False|           False|                 False|Inspired by the i...|      3424|      4|\n",
      "|TUmyygCMMGA|     17.14.11|Why the rise of t...|                 Vox|         25|2017-11-13 10:45:16|\"vox.com\"|\"vox\"|\"...| 256426| 12654|    1363|         2368|https://i.ytimg.c...|            False|           False|                 False|For now, at least...|     11291|      1|\n",
      "|9wRQljFNDW8|     17.14.11|Dion Lewis' 103-Y...|                 NFL|         17|2017-11-12 23:05:26|\"NFL\"|\"Football\"|...|  81377|   655|      25|          177|https://i.ytimg.c...|            False|           False|                 False|New England Patri...|       630|      0|\n",
      "|VifQlJit6A0|     17.14.11|(SPOILERS) 'Shiva...|                 amc|         24|2017-11-13 00:00:00|\"The Walking Dead...| 104578|  1576|     303|         1279|https://i.ytimg.c...|            False|           False|                 False|Shiva arrives jus...|      1273|      3|\n",
      "|5E4ZBSInqUU|     17.14.11|Marshmello - Bloc...|          marshmello|         10|2017-11-13 14:00:00|\"marshmello\"|\"blo...| 687582|114188|    1333|         8371|https://i.ytimg.c...|            False|           False|                 False|WATCH SILENCE MUS...|    112855|      5|\n",
      "|GgVmn66oK_A|     17.14.11|Which Countries A...|       NowThis World|         25|2017-11-12 11:00:00|\"nowthis\"|\"nowthi...| 544770|  7848|    1171|         3981|https://i.ytimg.c...|            False|           False|                 False|The world at larg...|      6677|      7|\n",
      "|TaTleo4cOs8|     17.14.11|SHOPPING FOR NEW ...|     The king of DIY|         15|2017-11-12 15:30:01|\"shopping for new...| 207532|  7473|     246|         2120|https://i.ytimg.c...|            False|           False|                 False|Today we go shopp...|      7227|      7|\n",
      "|kgaO45SyaO4|     17.14.11|    The New SpotMini|      BostonDynamics|         28|2017-11-13 17:09:58|\"Robots\"|\"Boston ...|  75752|  9419|      52|         1230|https://i.ytimg.c...|            False|           False|                 False|For more informat...|      9367|      7|\n",
      "|ZAQs-ctOqXQ|     17.14.11|One Change That W...|             Cracked|         23|2017-11-12 14:00:05|\"pacific rim\"|\"pa...| 295639|  8011|     638|         1256|https://i.ytimg.c...|            False|           False|                 False|Pacific Rim was s...|      7373|      3|\n",
      "|YVfyYrEmzgM|     17.14.11|How does your bod...|              TED-Ed|         27|2017-11-13 13:00:07|\"TED\"|\"TED-Ed\"|\"T...|  78044|  5398|      53|          385|https://i.ytimg.c...|            False|           False|                 False|Check out our Pat...|      5345|      5|\n",
      "|eNSN6qet1kE|     17.14.11|HomeMade Electric...|         PeterSripol|         28|2017-11-13 12:30:17|\"ultralight\"|\"air...|  97007| 11963|      36|         2211|https://i.ytimg.c...|            False|           False|                 False|aaaannnd now to f...|     11927|      7|\n",
      "|B5HORANmzHw|     17.14.11|Founding An Inbre...|             SciShow|         27|2017-11-12 19:00:01|\"SciShow\"|\"scienc...| 223871|  8421|     191|         1214|https://i.ytimg.c...|            False|           False|                 False|Thanks to 23AndMe...|      8230|      0|\n",
      "+-----------+-------------+--------------------+--------------------+-----------+-------------------+--------------------+-------+------+--------+-------------+--------------------+-----------------+----------------+----------------------+--------------------+----------+-------+\n",
      "only showing top 20 rows\n",
      "\n"
     ]
    }
   ],
   "source": [
    "df_valoracion = df.withColumn('valoracion', col('likes') - col('dislikes')).withColumn('res_div', col('valoracion') % 10)\n",
    "df_valoracion.printSchema()\n",
    "df_valoracion.show()"
   ]
  },
  {
   "cell_type": "code",
   "execution_count": 13,
   "metadata": {},
   "outputs": [
    {
     "name": "stdout",
     "output_type": "stream",
     "text": [
      "+------+--------+----------+-------+\n",
      "| likes|dislikes|valoracion|res_div|\n",
      "+------+--------+----------+-------+\n",
      "| 57527|    2966|     54561|      1|\n",
      "| 97185|    6146|     91039|      9|\n",
      "|146033|    5339|    140694|      4|\n",
      "| 10172|     666|      9506|      6|\n",
      "|132235|    1989|    130246|      6|\n",
      "|  9763|     511|      9252|      2|\n",
      "| 15993|    2445|     13548|      8|\n",
      "| 23663|     778|     22885|      5|\n",
      "|  3543|     119|      3424|      4|\n",
      "| 12654|    1363|     11291|      1|\n",
      "|   655|      25|       630|      0|\n",
      "|  1576|     303|      1273|      3|\n",
      "|114188|    1333|    112855|      5|\n",
      "|  7848|    1171|      6677|      7|\n",
      "|  7473|     246|      7227|      7|\n",
      "|  9419|      52|      9367|      7|\n",
      "|  8011|     638|      7373|      3|\n",
      "|  5398|      53|      5345|      5|\n",
      "| 11963|      36|     11927|      7|\n",
      "|  8421|     191|      8230|      0|\n",
      "+------+--------+----------+-------+\n",
      "only showing top 20 rows\n",
      "\n"
     ]
    }
   ],
   "source": [
    "df_valoracion.select(col('likes'), col('dislikes'), col('valoracion'), col('res_div')).show()"
   ]
  },
  {
   "attachments": {},
   "cell_type": "markdown",
   "metadata": {},
   "source": [
    "### withColumnRenamed"
   ]
  },
  {
   "cell_type": "code",
   "execution_count": 14,
   "metadata": {},
   "outputs": [
    {
     "name": "stdout",
     "output_type": "stream",
     "text": [
      "root\n",
      " |-- id: string (nullable = true)\n",
      " |-- trending_date: string (nullable = true)\n",
      " |-- title: string (nullable = true)\n",
      " |-- channel_title: string (nullable = true)\n",
      " |-- category_id: string (nullable = true)\n",
      " |-- publish_time: timestamp (nullable = true)\n",
      " |-- tags: string (nullable = true)\n",
      " |-- views: integer (nullable = true)\n",
      " |-- likes: integer (nullable = true)\n",
      " |-- dislikes: integer (nullable = true)\n",
      " |-- comment_count: integer (nullable = true)\n",
      " |-- thumbnail_link: string (nullable = true)\n",
      " |-- comments_disabled: string (nullable = true)\n",
      " |-- ratings_disabled: string (nullable = true)\n",
      " |-- video_error_or_removed: string (nullable = true)\n",
      " |-- description: string (nullable = true)\n",
      "\n"
     ]
    }
   ],
   "source": [
    "df_renamed = df.withColumnRenamed('video_id','id')\n",
    "df_renamed.printSchema()"
   ]
  },
  {
   "attachments": {},
   "cell_type": "markdown",
   "metadata": {},
   "source": [
    "### drop"
   ]
  },
  {
   "cell_type": "code",
   "execution_count": 15,
   "metadata": {},
   "outputs": [
    {
     "name": "stdout",
     "output_type": "stream",
     "text": [
      "root\n",
      " |-- video_id: string (nullable = true)\n",
      " |-- trending_date: string (nullable = true)\n",
      " |-- title: string (nullable = true)\n",
      " |-- channel_title: string (nullable = true)\n",
      " |-- category_id: string (nullable = true)\n",
      " |-- publish_time: timestamp (nullable = true)\n",
      " |-- tags: string (nullable = true)\n",
      " |-- views: integer (nullable = true)\n",
      " |-- likes: integer (nullable = true)\n",
      " |-- dislikes: integer (nullable = true)\n",
      " |-- comment_count: integer (nullable = true)\n",
      " |-- thumbnail_link: string (nullable = true)\n",
      " |-- ratings_disabled: string (nullable = true)\n",
      " |-- video_error_or_removed: string (nullable = true)\n",
      " |-- description: string (nullable = true)\n",
      "\n"
     ]
    }
   ],
   "source": [
    "df_util = df.drop('comments_disabled')\n",
    "df_util.printSchema()"
   ]
  },
  {
   "cell_type": "code",
   "execution_count": 16,
   "metadata": {},
   "outputs": [
    {
     "name": "stdout",
     "output_type": "stream",
     "text": [
      "root\n",
      " |-- video_id: string (nullable = true)\n",
      " |-- trending_date: string (nullable = true)\n",
      " |-- title: string (nullable = true)\n",
      " |-- channel_title: string (nullable = true)\n",
      " |-- category_id: string (nullable = true)\n",
      " |-- publish_time: timestamp (nullable = true)\n",
      " |-- tags: string (nullable = true)\n",
      " |-- views: integer (nullable = true)\n",
      " |-- likes: integer (nullable = true)\n",
      " |-- dislikes: integer (nullable = true)\n",
      " |-- comment_count: integer (nullable = true)\n",
      " |-- video_error_or_removed: string (nullable = true)\n",
      " |-- description: string (nullable = true)\n",
      "\n"
     ]
    }
   ],
   "source": [
    "df_util = df.drop('comments_disabled','ratings_disabled','thumbnail_link')\n",
    "df_util.printSchema()\n"
   ]
  },
  {
   "attachments": {},
   "cell_type": "markdown",
   "metadata": {},
   "source": [
    "### sample"
   ]
  },
  {
   "cell_type": "code",
   "execution_count": 19,
   "metadata": {},
   "outputs": [
    {
     "name": "stdout",
     "output_type": "stream",
     "text": [
      "48137 38479 9658\n"
     ]
    }
   ],
   "source": [
    "df_muestra = df.sample(0.8)\n",
    "# df_muestra.count()\n",
    "print(df.count(),df_muestra.count(),(df.count()-df_muestra.count()))"
   ]
  },
  {
   "cell_type": "code",
   "execution_count": 20,
   "metadata": {},
   "outputs": [],
   "source": [
    "df_muestra = df.sample(fraction=0.8, seed=1234)"
   ]
  },
  {
   "cell_type": "code",
   "execution_count": 21,
   "metadata": {},
   "outputs": [],
   "source": [
    "df_muestra = df.sample(withReplacement=True, fraction=0.8, seed=1234)"
   ]
  },
  {
   "attachments": {},
   "cell_type": "markdown",
   "metadata": {},
   "source": [
    "### randomSplit"
   ]
  },
  {
   "cell_type": "code",
   "execution_count": 22,
   "metadata": {},
   "outputs": [],
   "source": [
    "train, test = df.randomSplit([0.8, 0.2], seed=1234)"
   ]
  },
  {
   "cell_type": "code",
   "execution_count": 23,
   "metadata": {},
   "outputs": [
    {
     "name": "stderr",
     "output_type": "stream",
     "text": [
      "[Stage 36:===========================================>              (3 + 1) / 4]\r"
     ]
    },
    {
     "name": "stdout",
     "output_type": "stream",
     "text": [
      "+-----------+-------------+--------------------+--------------------+-----------+-------------------+--------------------+-------+-----+--------+-------------+--------------------+-----------------+----------------+----------------------+--------------------+\n",
      "|   video_id|trending_date|               title|       channel_title|category_id|       publish_time|                tags|  views|likes|dislikes|comment_count|      thumbnail_link|comments_disabled|ratings_disabled|video_error_or_removed|         description|\n",
      "+-----------+-------------+--------------------+--------------------+-----------+-------------------+--------------------+-------+-----+--------+-------------+--------------------+-----------------+----------------+----------------------+--------------------+\n",
      "|-0CMnp02rNY|     18.06.06|Mindy Kaling's Da...|        TheEllenShow|         24|2018-06-04 10:00:00|\"ellen\"|\"ellen de...| 475965| 6531|     172|          271|https://i.ytimg.c...|            False|           False|                 False|Ocean's 8 star Mi...|\n",
      "|-0CMnp02rNY|     18.07.06|Mindy Kaling's Da...|        TheEllenShow|         24|2018-06-04 10:00:00|\"ellen\"|\"ellen de...| 605506| 7848|     232|          354|https://i.ytimg.c...|            False|           False|                 False|Ocean's 8 star Mi...|\n",
      "|-0CMnp02rNY|     18.08.06|Mindy Kaling's Da...|        TheEllenShow|         24|2018-06-04 10:00:00|\"ellen\"|\"ellen de...| 705986| 8930|     277|          371|https://i.ytimg.c...|            False|           False|                 False|Ocean's 8 star Mi...|\n",
      "|-0CMnp02rNY|     18.09.06|Mindy Kaling's Da...|        TheEllenShow|         24|2018-06-04 10:00:00|\"ellen\"|\"ellen de...| 754273| 9395|     303|          383|https://i.ytimg.c...|            False|           False|                 False|Ocean's 8 star Mi...|\n",
      "|-0NYY8cqdiQ|     18.01.02|Megan Mullally Di...|        TheEllenShow|         24|2018-01-29 11:00:39|\"megan mullally\"|...| 563746| 4429|      54|           94|https://i.ytimg.c...|            False|           False|                 False|Ellen and Megan M...|\n",
      "|-1Hm41N0dUs|     18.01.05|Cast of Avengers:...|   Jimmy Kimmel Live|         23|2018-04-27 04:30:02|\"jimmy\"|\"jimmy ki...|2058516|41248|     580|         1484|https://i.ytimg.c...|            False|           False|                 False|Benedict Cumberba...|\n",
      "|-1Hm41N0dUs|     18.29.04|Cast of Avengers:...|   Jimmy Kimmel Live|         23|2018-04-27 04:30:02|\"jimmy\"|\"jimmy ki...|1566807|32752|     393|         1490|https://i.ytimg.c...|            False|           False|                 False|Benedict Cumberba...|\n",
      "|-1yT-K3c6YI|     17.01.12|YOUTUBER QUIZ + T...|         Molly Burke|         22|2017-11-28 15:30:43|\"youtube quiz\"|\"y...| 218227| 7407|     209|          831|https://i.ytimg.c...|            False|           False|                 False|Check out the vid...|\n",
      "|-1yT-K3c6YI|     17.30.11|YOUTUBER QUIZ + T...|         Molly Burke|         22|2017-11-28 15:30:43|\"youtube quiz\"|\"y...| 198315| 6950|     184|          735|https://i.ytimg.c...|            False|           False|                 False|Check out the vid...|\n",
      "|-2RVw2_QyxQ|     17.15.11|2017 Champions Sh...|Saint Louis Chess...|         27|2017-11-11 23:39:01|\"Chess\"|\"Saint Lo...|  69786|  453|      26|           19|https://i.ytimg.c...|            False|           False|                 False|The Saint Louis C...|\n",
      "|-2RVw2_QyxQ|     17.16.11|2017 Champions Sh...|Saint Louis Chess...|         27|2017-11-11 23:39:01|\"Chess\"|\"Saint Lo...|  71089|  460|      27|           20|https://i.ytimg.c...|            False|           False|                 False|The Saint Louis C...|\n",
      "|-2aVkGcI7ZA|     18.27.04|Benedict Cumberba...|         BBC Radio 1|         10|2018-04-25 09:20:45|\"benedict cumberb...|1012527|19339|     633|          520|https://i.ytimg.c...|            False|           False|                 False|Benedict Cumberba...|\n",
      "|-2aVkGcI7ZA|     18.28.04|Benedict Cumberba...|         BBC Radio 1|         10|2018-04-25 09:20:45|\"benedict cumberb...|1433932|26209|     941|          639|https://i.ytimg.c...|            False|           False|                 False|Benedict Cumberba...|\n",
      "|-2aVkGcI7ZA|     18.29.04|Benedict Cumberba...|         BBC Radio 1|         10|2018-04-25 09:20:45|\"benedict cumberb...|1837557|32708|    1246|          792|https://i.ytimg.c...|            False|           False|                 False|Benedict Cumberba...|\n",
      "|-2aVkGcI7ZA|     18.30.04|Benedict Cumberba...|         BBC Radio 1|         10|2018-04-25 09:20:45|\"benedict cumberb...|2390558|41016|    1642|          977|https://i.ytimg.c...|            False|           False|                 False|Benedict Cumberba...|\n",
      "|-2b4qSoMnKE|     17.20.12|Ex-UFO program ch...|                 CNN|         25|2017-12-19 17:46:33|\"latest News\"|\"Ha...|  84744| 1444|     199|         1610|https://i.ytimg.c...|            False|           False|                 False|Luis Elizondo, a ...|\n",
      "|-2b4qSoMnKE|     17.21.12|Ex-UFO program ch...|                 CNN|         25|2017-12-19 17:46:33|\"latest News\"|\"Ha...| 291653| 3788|     603|         3093|https://i.ytimg.c...|            False|           False|                 False|Luis Elizondo, a ...|\n",
      "|-2wRFv-mScQ|     18.14.02|Top 10 Moments of...|                 NBA|         17|2018-02-12 22:46:14|\"nba\"|\"highlights...| 703371|10350|     260|          567|https://i.ytimg.c...|            False|           False|                 False|Relive the most m...|\n",
      "|-2wRFv-mScQ|     18.15.02|Top 10 Moments of...|                 NBA|         17|2018-02-12 22:46:14|\"nba\"|\"highlights...| 900722|11655|     348|          669|https://i.ytimg.c...|            False|           False|                 False|Relive the most m...|\n",
      "|-2wRFv-mScQ|     18.16.02|Top 10 Moments of...|                 NBA|         17|2018-02-12 22:46:14|\"nba\"|\"highlights...| 931190|11834|     357|          676|https://i.ytimg.c...|            False|           False|                 False|Relive the most m...|\n",
      "+-----------+-------------+--------------------+--------------------+-----------+-------------------+--------------------+-------+-----+--------+-------------+--------------------+-----------------+----------------+----------------------+--------------------+\n",
      "only showing top 20 rows\n",
      "\n"
     ]
    },
    {
     "name": "stderr",
     "output_type": "stream",
     "text": [
      "                                                                                \r"
     ]
    }
   ],
   "source": [
    "train.show()"
   ]
  },
  {
   "cell_type": "code",
   "execution_count": null,
   "metadata": {},
   "outputs": [],
   "source": []
  }
 ],
 "metadata": {
  "kernelspec": {
   "display_name": "Python 3",
   "language": "python",
   "name": "python3"
  },
  "language_info": {
   "codemirror_mode": {
    "name": "ipython",
    "version": 3
   },
   "file_extension": ".py",
   "mimetype": "text/x-python",
   "name": "python",
   "nbconvert_exporter": "python",
   "pygments_lexer": "ipython3",
   "version": "3.10.7"
  },
  "orig_nbformat": 4,
  "vscode": {
   "interpreter": {
    "hash": "e7370f93d1d0cde622a1f8e1c04877d8463912d04d973331ad4851f04de6915a"
   }
  }
 },
 "nbformat": 4,
 "nbformat_minor": 2
}
