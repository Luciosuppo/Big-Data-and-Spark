{
 "cells": [
  {
   "cell_type": "code",
   "execution_count": 1,
   "metadata": {},
   "outputs": [
    {
     "name": "stdout",
     "output_type": "stream",
     "text": [
      "23/02/24 08:20:56 WARN Utils: Your hostname, luciosuppo-HP-Pavilion-Gaming-Laptop-15-ec1xxx resolves to a loopback address: 127.0.1.1; using 192.168.100.58 instead (on interface wlo1)\n",
      "23/02/24 08:20:56 WARN Utils: Set SPARK_LOCAL_IP if you need to bind to another address\n"
     ]
    },
    {
     "name": "stderr",
     "output_type": "stream",
     "text": [
      "Setting default log level to \"WARN\".\n",
      "To adjust logging level use sc.setLogLevel(newLevel). For SparkR, use setLogLevel(newLevel).\n"
     ]
    },
    {
     "name": "stdout",
     "output_type": "stream",
     "text": [
      "23/02/24 08:20:57 WARN NativeCodeLoader: Unable to load native-hadoop library for your platform... using builtin-java classes where applicable\n"
     ]
    }
   ],
   "source": [
    "import findspark\n",
    "\n",
    "findspark.init()\n",
    "\n",
    "from pyspark.sql import SparkSession\n",
    "\n",
    "spark = SparkSession.builder.getOrCreate()\n",
    "sc=spark.sparkContext"
   ]
  },
  {
   "attachments": {},
   "cell_type": "markdown",
   "metadata": {},
   "source": [
    "### Select"
   ]
  },
  {
   "cell_type": "code",
   "execution_count": 2,
   "metadata": {},
   "outputs": [
    {
     "name": "stderr",
     "output_type": "stream",
     "text": [
      "                                                                                \r"
     ]
    },
    {
     "name": "stdout",
     "output_type": "stream",
     "text": [
      "root\n",
      " |-- video_id: string (nullable = true)\n",
      " |-- trending_date: string (nullable = true)\n",
      " |-- title: string (nullable = true)\n",
      " |-- channel_title: string (nullable = true)\n",
      " |-- category_id: string (nullable = true)\n",
      " |-- publish_time: string (nullable = true)\n",
      " |-- tags: string (nullable = true)\n",
      " |-- views: string (nullable = true)\n",
      " |-- likes: string (nullable = true)\n",
      " |-- dislikes: string (nullable = true)\n",
      " |-- comment_count: string (nullable = true)\n",
      " |-- thumbnail_link: string (nullable = true)\n",
      " |-- comments_disabled: string (nullable = true)\n",
      " |-- ratings_disabled: string (nullable = true)\n",
      " |-- video_error_or_removed: string (nullable = true)\n",
      " |-- description: string (nullable = true)\n",
      "\n"
     ]
    }
   ],
   "source": [
    "df = spark.read.parquet('./data_2/dataPARQUET.parquet')\n",
    "df.printSchema()"
   ]
  },
  {
   "cell_type": "code",
   "execution_count": 3,
   "metadata": {},
   "outputs": [
    {
     "name": "stdout",
     "output_type": "stream",
     "text": [
      "+--------------------+\n",
      "|               title|\n",
      "+--------------------+\n",
      "|WE WANT TO TALK A...|\n",
      "|The Trump Preside...|\n",
      "|Racist Superman |...|\n",
      "|Nickelback Lyrics...|\n",
      "|I Dare You: GOING...|\n",
      "|2 Weeks with iPho...|\n",
      "|Roy Moore & Jeff ...|\n",
      "|5 Ice Cream Gadge...|\n",
      "|The Greatest Show...|\n",
      "|Why the rise of t...|\n",
      "|Dion Lewis' 103-Y...|\n",
      "|(SPOILERS) 'Shiva...|\n",
      "|Marshmello - Bloc...|\n",
      "|Which Countries A...|\n",
      "|SHOPPING FOR NEW ...|\n",
      "|    The New SpotMini|\n",
      "|One Change That W...|\n",
      "|How does your bod...|\n",
      "|HomeMade Electric...|\n",
      "|Founding An Inbre...|\n",
      "+--------------------+\n",
      "only showing top 20 rows\n",
      "\n"
     ]
    }
   ],
   "source": [
    "df.select('title').show()       # opcion 1"
   ]
  },
  {
   "cell_type": "code",
   "execution_count": 6,
   "metadata": {},
   "outputs": [],
   "source": [
    "from pyspark.sql.functions import *"
   ]
  },
  {
   "cell_type": "code",
   "execution_count": 7,
   "metadata": {},
   "outputs": [
    {
     "name": "stdout",
     "output_type": "stream",
     "text": [
      "+--------------------+\n",
      "|               title|\n",
      "+--------------------+\n",
      "|WE WANT TO TALK A...|\n",
      "|The Trump Preside...|\n",
      "|Racist Superman |...|\n",
      "|Nickelback Lyrics...|\n",
      "|I Dare You: GOING...|\n",
      "|2 Weeks with iPho...|\n",
      "|Roy Moore & Jeff ...|\n",
      "|5 Ice Cream Gadge...|\n",
      "|The Greatest Show...|\n",
      "|Why the rise of t...|\n",
      "|Dion Lewis' 103-Y...|\n",
      "|(SPOILERS) 'Shiva...|\n",
      "|Marshmello - Bloc...|\n",
      "|Which Countries A...|\n",
      "|SHOPPING FOR NEW ...|\n",
      "|    The New SpotMini|\n",
      "|One Change That W...|\n",
      "|How does your bod...|\n",
      "|HomeMade Electric...|\n",
      "|Founding An Inbre...|\n",
      "+--------------------+\n",
      "only showing top 20 rows\n",
      "\n"
     ]
    }
   ],
   "source": [
    "df.select(col('title')).show()     #opcion 2 "
   ]
  },
  {
   "cell_type": "code",
   "execution_count": 8,
   "metadata": {},
   "outputs": [
    {
     "name": "stdout",
     "output_type": "stream",
     "text": [
      "root\n",
      " |-- video_id: string (nullable = true)\n",
      " |-- trending_date: string (nullable = true)\n",
      " |-- title: string (nullable = true)\n",
      " |-- channel_title: string (nullable = true)\n",
      " |-- category_id: string (nullable = true)\n",
      " |-- publish_time: timestamp (nullable = true)\n",
      " |-- tags: string (nullable = true)\n",
      " |-- views: integer (nullable = true)\n",
      " |-- likes: integer (nullable = true)\n",
      " |-- dislikes: integer (nullable = true)\n",
      " |-- comment_count: integer (nullable = true)\n",
      " |-- thumbnail_link: string (nullable = true)\n",
      " |-- comments_disabled: string (nullable = true)\n",
      " |-- ratings_disabled: string (nullable = true)\n",
      " |-- video_error_or_removed: string (nullable = true)\n",
      " |-- description: string (nullable = true)\n",
      "\n"
     ]
    }
   ],
   "source": [
    "df = spark.read.parquet('./data_2/datos.parquet')\n",
    "df.printSchema()\n"
   ]
  },
  {
   "cell_type": "code",
   "execution_count": 9,
   "metadata": {},
   "outputs": [
    {
     "name": "stdout",
     "output_type": "stream",
     "text": [
      "+-----------+-------------+\n",
      "|   video_id|trending_date|\n",
      "+-----------+-------------+\n",
      "|2kyS6SvSYSE|     17.14.11|\n",
      "|1ZAPwfrtAFY|     17.14.11|\n",
      "|5qpjK5DgCt4|     17.14.11|\n",
      "|puqaWrEC7tY|     17.14.11|\n",
      "|d380meD0W0M|     17.14.11|\n",
      "|gHZ1Qz0KiKM|     17.14.11|\n",
      "|39idVpFF7NQ|     17.14.11|\n",
      "|nc99ccSXST0|     17.14.11|\n",
      "|jr9QtXwC9vc|     17.14.11|\n",
      "|TUmyygCMMGA|     17.14.11|\n",
      "|9wRQljFNDW8|     17.14.11|\n",
      "|VifQlJit6A0|     17.14.11|\n",
      "|5E4ZBSInqUU|     17.14.11|\n",
      "|GgVmn66oK_A|     17.14.11|\n",
      "|TaTleo4cOs8|     17.14.11|\n",
      "|kgaO45SyaO4|     17.14.11|\n",
      "|ZAQs-ctOqXQ|     17.14.11|\n",
      "|YVfyYrEmzgM|     17.14.11|\n",
      "|eNSN6qet1kE|     17.14.11|\n",
      "|B5HORANmzHw|     17.14.11|\n",
      "+-----------+-------------+\n",
      "only showing top 20 rows\n",
      "\n"
     ]
    }
   ],
   "source": [
    "df.select('video_id','trending_date').show()"
   ]
  },
  {
   "cell_type": "code",
   "execution_count": 9,
   "metadata": {},
   "outputs": [
    {
     "name": "stdout",
     "output_type": "stream",
     "text": [
      "+------+--------+----------+\n",
      "| likes|dislikes|aceptacion|\n",
      "+------+--------+----------+\n",
      "| 57527|    2966|     54561|\n",
      "| 97185|    6146|     91039|\n",
      "|146033|    5339|    140694|\n",
      "| 10172|     666|      9506|\n",
      "|132235|    1989|    130246|\n",
      "|  9763|     511|      9252|\n",
      "| 15993|    2445|     13548|\n",
      "| 23663|     778|     22885|\n",
      "|  3543|     119|      3424|\n",
      "| 12654|    1363|     11291|\n",
      "|   655|      25|       630|\n",
      "|  1576|     303|      1273|\n",
      "|114188|    1333|    112855|\n",
      "|  7848|    1171|      6677|\n",
      "|  7473|     246|      7227|\n",
      "|  9419|      52|      9367|\n",
      "|  8011|     638|      7373|\n",
      "|  5398|      53|      5345|\n",
      "| 11963|      36|     11927|\n",
      "|  8421|     191|      8230|\n",
      "+------+--------+----------+\n",
      "only showing top 20 rows\n",
      "\n"
     ]
    }
   ],
   "source": [
    "df.select(\n",
    "    col('likes'),\n",
    "    col('dislikes'),\n",
    "    (col('likes')-col('dislikes')).alias('aceptacion')\n",
    ").show()"
   ]
  },
  {
   "attachments": {},
   "cell_type": "markdown",
   "metadata": {},
   "source": [
    "###  SelectExpr"
   ]
  },
  {
   "cell_type": "code",
   "execution_count": 10,
   "metadata": {},
   "outputs": [
    {
     "name": "stdout",
     "output_type": "stream",
     "text": [
      "+------+--------+----------+\n",
      "| likes|dislikes|aceptacion|\n",
      "+------+--------+----------+\n",
      "| 57527|    2966|     54561|\n",
      "| 97185|    6146|     91039|\n",
      "|146033|    5339|    140694|\n",
      "| 10172|     666|      9506|\n",
      "|132235|    1989|    130246|\n",
      "|  9763|     511|      9252|\n",
      "| 15993|    2445|     13548|\n",
      "| 23663|     778|     22885|\n",
      "|  3543|     119|      3424|\n",
      "| 12654|    1363|     11291|\n",
      "|   655|      25|       630|\n",
      "|  1576|     303|      1273|\n",
      "|114188|    1333|    112855|\n",
      "|  7848|    1171|      6677|\n",
      "|  7473|     246|      7227|\n",
      "|  9419|      52|      9367|\n",
      "|  8011|     638|      7373|\n",
      "|  5398|      53|      5345|\n",
      "| 11963|      36|     11927|\n",
      "|  8421|     191|      8230|\n",
      "+------+--------+----------+\n",
      "only showing top 20 rows\n",
      "\n"
     ]
    }
   ],
   "source": [
    "df.selectExpr('likes','dislikes', '(likes - dislikes) as aceptacion').show()"
   ]
  },
  {
   "cell_type": "code",
   "execution_count": 16,
   "metadata": {},
   "outputs": [
    {
     "name": "stdout",
     "output_type": "stream",
     "text": [
      "+------+\n",
      "|videos|\n",
      "+------+\n",
      "|  6837|\n",
      "+------+\n",
      "\n"
     ]
    }
   ],
   "source": [
    "df.selectExpr('count(distinct(video_id)) as videos').show()"
   ]
  },
  {
   "cell_type": "markdown",
   "metadata": {},
   "source": [
    "### filter"
   ]
  },
  {
   "cell_type": "code",
   "execution_count": 11,
   "metadata": {},
   "outputs": [
    {
     "name": "stdout",
     "output_type": "stream",
     "text": [
      "+-----------+-------------+--------------------+-------------+-----------+-------------------+---------------+-------+-----+--------+-------------+--------------------+-----------------+----------------+----------------------+--------------------+\n",
      "|   video_id|trending_date|               title|channel_title|category_id|       publish_time|           tags|  views|likes|dislikes|comment_count|      thumbnail_link|comments_disabled|ratings_disabled|video_error_or_removed|         description|\n",
      "+-----------+-------------+--------------------+-------------+-----------+-------------------+---------------+-------+-----+--------+-------------+--------------------+-----------------+----------------+----------------------+--------------------+\n",
      "|2kyS6SvSYSE|     17.14.11|WE WANT TO TALK A...| CaseyNeistat|         22|2017-11-13 14:13:01|SHANtell martin| 748374|57527|    2966|        15954|https://i.ytimg.c...|            False|           False|                 False|SHANTELL'S CHANNE...|\n",
      "|2kyS6SvSYSE|     17.15.11|WE WANT TO TALK A...| CaseyNeistat|         22|2017-11-13 14:13:01|SHANtell martin|2188590|88099|    7150|        24225|https://i.ytimg.c...|            False|           False|                 False|SHANTELL'S CHANNE...|\n",
      "|2kyS6SvSYSE|     17.16.11|WE WANT TO TALK A...| CaseyNeistat|         22|2017-11-13 14:13:01|SHANtell martin|2325233|91111|    7543|        21450|https://i.ytimg.c...|            False|           False|                 False|SHANTELL'S CHANNE...|\n",
      "|2kyS6SvSYSE|     17.17.11|WE WANT TO TALK A...| CaseyNeistat|         22|2017-11-13 14:13:01|SHANtell martin|2400741|92831|    7687|        21714|https://i.ytimg.c...|            False|           False|                 False|SHANTELL'S CHANNE...|\n",
      "|2kyS6SvSYSE|     17.18.11|WE WANT TO TALK A...| CaseyNeistat|         22|2017-11-13 14:13:01|SHANtell martin|2468267|94303|    7802|        21866|https://i.ytimg.c...|            False|           False|                 False|SHANTELL'S CHANNE...|\n",
      "|2kyS6SvSYSE|     17.19.11|WE WANT TO TALK A...| CaseyNeistat|         22|2017-11-13 14:13:01|SHANtell martin|2524854|95587|    7892|        22038|https://i.ytimg.c...|            False|           False|                 False|SHANTELL'S CHANNE...|\n",
      "|2kyS6SvSYSE|     17.20.11|WE WANT TO TALK A...| CaseyNeistat|         22|2017-11-13 14:13:01|SHANtell martin|2564903|96321|    7972|        22149|https://i.ytimg.c...|            False|           False|                 False|SHANTELL'S CHANNE...|\n",
      "+-----------+-------------+--------------------+-------------+-----------+-------------------+---------------+-------+-----+--------+-------------+--------------------+-----------------+----------------+----------------------+--------------------+\n",
      "\n"
     ]
    },
    {
     "name": "stderr",
     "output_type": "stream",
     "text": [
      "                                                                                \r"
     ]
    }
   ],
   "source": [
    "df.filter(col('video_id')=='2kyS6SvSYSE').show()"
   ]
  },
  {
   "attachments": {},
   "cell_type": "markdown",
   "metadata": {},
   "source": [
    "### where"
   ]
  },
  {
   "cell_type": "code",
   "execution_count": 16,
   "metadata": {},
   "outputs": [
    {
     "name": "stdout",
     "output_type": "stream",
     "text": [
      "+--------------------+--------------------+--------------------+--------------------+--------------------+-------------------+--------------------+-------+------+--------+-------------+--------------------+-----------------+----------------+----------------------+--------------------+\n",
      "|            video_id|       trending_date|               title|       channel_title|         category_id|       publish_time|                tags|  views| likes|dislikes|comment_count|      thumbnail_link|comments_disabled|ratings_disabled|video_error_or_removed|         description|\n",
      "+--------------------+--------------------+--------------------+--------------------+--------------------+-------------------+--------------------+-------+------+--------+-------------+--------------------+-----------------+----------------+----------------------+--------------------+\n",
      "|\\nCook with confi...|             recipes|              videos| and restaurant g...| dining destinations|               null|                null|   null|  null|    null|         null|                null|             null|            null|                  null|                null|\n",
      "|\\nVogue is the au...|      culture trends|     beauty coverage|              videos|     celebrity style|               null|                null|   null|  null|    null|         null|                null|             null|            null|                  null|                null|\n",
      "|\\nWIRED is where ...| WIRED explores t...|          innovation| and culture.\\n\\n...|                null|               null|                null|   null|  null|    null|         null|                null|             null|            null|                  null|                null|\n",
      "|         YvfYK0EEhK4|            17.15.11|Brent Pella - Why...|         Brent Pella|                  23|2017-11-14 12:32:51|\"spirit airlines\"...| 462490| 14132|     795|          666|https://i.ytimg.c...|            False|           False|                 False|Traveling for the...|\n",
      "|         cxMvzK2OQTw|            17.15.11|Cards Against Hum...|Cards Against Hum...|                  23|2017-11-14 13:43:11|              [none]| 295217|  4854|    1439|         1267|https://i.ytimg.c...|            False|           False|                 False|Narrated by Peter...|\n",
      "|         bAkEd8r7Nnw|            17.15.11|Slow Mo Katana Sw...|    The Slow Mo Guys|                  24|2017-11-14 15:31:20|\"slomo\"|\"slow\"|\"m...|1525400| 63995|     896|         4697|https://i.ytimg.c...|            False|           False|                 False|Has Dan ever used...|\n",
      "|         ItYOdWRo0JY|            17.15.11|Selling My iPhone...|          TechSmartt|                  28|2017-11-13 21:45:15|\"iphone x\"|\"iphon...|1836419| 28647|   17815|         7860|https://i.ytimg.c...|            False|           False|                 False|I saw the EcoATM ...|\n",
      "|         5530I_pYjbo|            17.15.11|How I Trained My ...|         JunsKitchen|                  26|2017-11-14 09:06:56|\"how\"|\"trained\"|\"...| 977285| 87615|     391|         5575|https://i.ytimg.c...|            False|           False|                 False|►EQUIPMENT I use ...|\n",
      "|         dUMH6DVYskc|            17.15.11|Ten-Year-Old's Fa...|     Attaullah Malik|                  28|2017-11-14 09:02:49|\"iPhone X\"|\"Face ...| 390964|  3687|    1273|         1224|https://i.ytimg.c...|            False|           False|                 False|We are seeing a f...|\n",
      "|         gjXrm2Q-te4|            17.15.11|Jimmy Fallon Pays...|The Tonight Show ...|                  23|2017-11-14 01:55:24|\"Jimmy Fallon\"|\"T...|1611093| 58474|     837|         3294|https://i.ytimg.c...|            False|           False|                 False|Jimmy celebrates ...|\n",
      "|         9SK1I0V6U5c|            17.15.11|Lie Detector | An...|        Anwar Jibawi|                  23|2017-11-14 15:01:03|\"lie detector\"|\"a...| 983365| 60983|     578|         3837|https://i.ytimg.c...|            False|           False|                 False|SUBSCRIBE ► https...|\n",
      "|         VsYmwBOYfW8|            17.15.11|Mean Tweets – Jim...|   Jimmy Kimmel Live|                  23|2017-11-14 05:30:01|\"jimmy\"|\"jimmy ki...|2765121| 35529|    1705|         2388|https://i.ytimg.c...|            False|           False|                 False|In honor of Jimmy...|\n",
      "|         kgaO45SyaO4|            17.15.11|    The New SpotMini|      BostonDynamics|                  28|2017-11-13 17:09:58|\"Robots\"|\"Boston ...|3701763| 56561|    2495|        11608|https://i.ytimg.c...|            False|           False|                 False|For more informat...|\n",
      "|         CtBca6H6Teg|            17.15.11|Honest Trailers -...|      Screen Junkies|                   1|2017-11-14 15:00:01|\"batman\"|\"screenj...| 829132| 25109|     316|         3428|https://i.ytimg.c...|            False|           False|                 False|Before Justice Le...|\n",
      "|         pcWKpGzhgq4|            17.15.11|Jason Momoa Shows...|The Graham Norton...|                  24|2017-11-14 09:13:35|\"Graham Norton\"|\"...| 391049|  5939|     106|          385|https://i.ytimg.c...|            False|           False|                 False|It's not a triden...|\n",
      "|         L3br0klRqF4|            17.15.11|Watch live: Sessi...|     Washington Post|                  25|2017-11-14 18:51:20|\"breaking news vi...| 137003|   580|     262|          343|https://i.ytimg.c...|            False|           False|                 False|Attorney General ...|\n",
      "|         9kF9xY74h-E|            17.15.11|Spilling Tea Abou...|         Dolan Twins|                  23|2017-11-14 18:00:47|\"Dolan Twins\"|\"Sp...| 891912|122347|     455|         7459|https://i.ytimg.c...|            False|           False|                 False|We spill TEA abou...|\n",
      "|         p2EY93WfBQk|            17.15.11|Is the Morphe 350...|         Jackie Aina|                  26|2017-11-14 18:03:47|\"morphe\"|\"morphe ...| 175539| 17130|     264|         1747|https://i.ytimg.c...|            False|           False|                 False|hi babes! the lat...|\n",
      "|         xL_qpDkF5A8|            17.15.11|American Crime St...|           TV Promos|                  24|2017-11-14 22:25:18|\"Donatella Versac...|  14565|   478|      13|           67|https://i.ytimg.c...|            False|           False|                 False|The Assassination...|\n",
      "|         eQVhAN7-IAw|            17.15.11|The Making of a S...|        Taylor Swift|                  10|2017-11-15 00:43:47|\"DIRECTV\"|\"DIRECT...| 125645| 16754|      65|         1373|https://i.ytimg.c...|            False|           False|                 False|A glimpse into Ta...|\n",
      "+--------------------+--------------------+--------------------+--------------------+--------------------+-------------------+--------------------+-------+------+--------+-------------+--------------------+-----------------+----------------+----------------------+--------------------+\n",
      "only showing top 20 rows\n",
      "\n"
     ]
    }
   ],
   "source": [
    "df = spark.read.parquet('./data_2/datos.parquet').where(col('trending_date') != '17.14.11')\n",
    "df.show()"
   ]
  },
  {
   "cell_type": "code",
   "execution_count": 17,
   "metadata": {},
   "outputs": [],
   "source": [
    "df = spark.read.parquet('./data_2/datos.parquet').where(col('likes') > 5000)"
   ]
  },
  {
   "cell_type": "code",
   "execution_count": 27,
   "metadata": {},
   "outputs": [
    {
     "name": "stdout",
     "output_type": "stream",
     "text": [
      "+-----------+-------------+--------------------+--------------------+-----------+-------------------+--------------------+-------+------+--------+-------------+--------------------+-----------------+----------------+----------------------+--------------------+\n",
      "|   video_id|trending_date|               title|       channel_title|category_id|       publish_time|                tags|  views| likes|dislikes|comment_count|      thumbnail_link|comments_disabled|ratings_disabled|video_error_or_removed|         description|\n",
      "+-----------+-------------+--------------------+--------------------+-----------+-------------------+--------------------+-------+------+--------+-------------+--------------------+-----------------+----------------+----------------------+--------------------+\n",
      "|YvfYK0EEhK4|     17.15.11|Brent Pella - Why...|         Brent Pella|         23|2017-11-14 12:32:51|\"spirit airlines\"...| 462490| 14132|     795|          666|https://i.ytimg.c...|            False|           False|                 False|Traveling for the...|\n",
      "|bAkEd8r7Nnw|     17.15.11|Slow Mo Katana Sw...|    The Slow Mo Guys|         24|2017-11-14 15:31:20|\"slomo\"|\"slow\"|\"m...|1525400| 63995|     896|         4697|https://i.ytimg.c...|            False|           False|                 False|Has Dan ever used...|\n",
      "|ItYOdWRo0JY|     17.15.11|Selling My iPhone...|          TechSmartt|         28|2017-11-13 21:45:15|\"iphone x\"|\"iphon...|1836419| 28647|   17815|         7860|https://i.ytimg.c...|            False|           False|                 False|I saw the EcoATM ...|\n",
      "|5530I_pYjbo|     17.15.11|How I Trained My ...|         JunsKitchen|         26|2017-11-14 09:06:56|\"how\"|\"trained\"|\"...| 977285| 87615|     391|         5575|https://i.ytimg.c...|            False|           False|                 False|►EQUIPMENT I use ...|\n",
      "|gjXrm2Q-te4|     17.15.11|Jimmy Fallon Pays...|The Tonight Show ...|         23|2017-11-14 01:55:24|\"Jimmy Fallon\"|\"T...|1611093| 58474|     837|         3294|https://i.ytimg.c...|            False|           False|                 False|Jimmy celebrates ...|\n",
      "|9SK1I0V6U5c|     17.15.11|Lie Detector | An...|        Anwar Jibawi|         23|2017-11-14 15:01:03|\"lie detector\"|\"a...| 983365| 60983|     578|         3837|https://i.ytimg.c...|            False|           False|                 False|SUBSCRIBE ► https...|\n",
      "|VsYmwBOYfW8|     17.15.11|Mean Tweets – Jim...|   Jimmy Kimmel Live|         23|2017-11-14 05:30:01|\"jimmy\"|\"jimmy ki...|2765121| 35529|    1705|         2388|https://i.ytimg.c...|            False|           False|                 False|In honor of Jimmy...|\n",
      "|kgaO45SyaO4|     17.15.11|    The New SpotMini|      BostonDynamics|         28|2017-11-13 17:09:58|\"Robots\"|\"Boston ...|3701763| 56561|    2495|        11608|https://i.ytimg.c...|            False|           False|                 False|For more informat...|\n",
      "|CtBca6H6Teg|     17.15.11|Honest Trailers -...|      Screen Junkies|          1|2017-11-14 15:00:01|\"batman\"|\"screenj...| 829132| 25109|     316|         3428|https://i.ytimg.c...|            False|           False|                 False|Before Justice Le...|\n",
      "|9kF9xY74h-E|     17.15.11|Spilling Tea Abou...|         Dolan Twins|         23|2017-11-14 18:00:47|\"Dolan Twins\"|\"Sp...| 891912|122347|     455|         7459|https://i.ytimg.c...|            False|           False|                 False|We spill TEA abou...|\n",
      "|p2EY93WfBQk|     17.15.11|Is the Morphe 350...|         Jackie Aina|         26|2017-11-14 18:03:47|\"morphe\"|\"morphe ...| 175539| 17130|     264|         1747|https://i.ytimg.c...|            False|           False|                 False|hi babes! the lat...|\n",
      "|eQVhAN7-IAw|     17.15.11|The Making of a S...|        Taylor Swift|         10|2017-11-15 00:43:47|\"DIRECTV\"|\"DIRECT...| 125645| 16754|      65|         1373|https://i.ytimg.c...|            False|           False|                 False|A glimpse into Ta...|\n",
      "|2kyS6SvSYSE|     17.15.11|WE WANT TO TALK A...|        CaseyNeistat|         22|2017-11-13 14:13:01|     SHANtell martin|2188590| 88099|    7150|        24225|https://i.ytimg.c...|            False|           False|                 False|SHANTELL'S CHANNE...|\n",
      "|Y9nDagqKL7Q|     17.15.11|venting online ab...|               ProZD|          1|2017-11-13 17:47:49|\"venting online\"|...| 394709| 25188|     281|         1345|https://i.ytimg.c...|            False|           False|                 False|My Twitter: https...|\n",
      "|DbJ2s_g1oDc|     17.15.11|10 LIFE HACKS YOU...|               REACT|         24|2017-11-13 17:00:01|\"easy life hacks\"...| 863116| 20518|    1030|         4272|https://i.ytimg.c...|            False|           False|                 False|10 Awesome life h...|\n",
      "|1ZAPwfrtAFY|     17.15.11|The Trump Preside...|     LastWeekTonight|         24|2017-11-13 04:30:00|\"last week tonigh...|4632016|131784|    9892|        18284|https://i.ytimg.c...|            False|           False|                 False|One year after th...|\n",
      "|gHZ1Qz0KiKM|     17.15.11|2 Weeks with iPho...|            iJustine|         28|2017-11-13 16:07:23|\"ijustine\"|\"week ...| 758998| 19138|    2272|         2873|https://i.ytimg.c...|            False|           False|                 False|Using the iPhone ...|\n",
      "|jr9QtXwC9vc|     17.15.11|The Greatest Show...|    20th Century Fox|          1|2017-11-13 11:00:23|\"Trailer\"|\"Hugh J...|2671756| 12699|     505|         1010|https://i.ytimg.c...|            False|           False|                 False|Inspired by the i...|\n",
      "|l4bAoNAx2uo|     17.15.11|American Things E...|The Infographics ...|         27|2017-11-13 14:11:30|\"American Things ...| 419965|  9805|    1337|         5457|https://i.ytimg.c...|            False|           False|                 False|What are things t...|\n",
      "|puqaWrEC7tY|     17.15.11|Nickelback Lyrics...|Good Mythical Mor...|         24|2017-11-13 08:00:04|\"rhett and link\"|...| 772235| 15301|    1229|         3328|https://i.ytimg.c...|            False|           False|                 False|Today we find out...|\n",
      "+-----------+-------------+--------------------+--------------------+-----------+-------------------+--------------------+-------+------+--------+-------------+--------------------+-----------------+----------------+----------------------+--------------------+\n",
      "only showing top 20 rows\n",
      "\n"
     ]
    }
   ],
   "source": [
    "df.filter((col('trending_date') != '17.14.11') & (col('likes') > 7000)).show()\n",
    "# df.filter(col('trending_date') != '17.14.11').filter(col('likes') > 7000).show()\n"
   ]
  },
  {
   "cell_type": "markdown",
   "metadata": {},
   "source": [
    "### distinct\n"
   ]
  },
  {
   "cell_type": "code",
   "execution_count": 31,
   "metadata": {},
   "outputs": [
    {
     "data": {
      "text/plain": [
       "48137"
      ]
     },
     "execution_count": 31,
     "metadata": {},
     "output_type": "execute_result"
    }
   ],
   "source": [
    "df = spark.read.parquet('./data_2/datos.parquet')"
   ]
  },
  {
   "cell_type": "code",
   "execution_count": 32,
   "metadata": {},
   "outputs": [
    {
     "name": "stdout",
     "output_type": "stream",
     "text": [
      "48137 registros en total\n"
     ]
    },
    {
     "name": "stderr",
     "output_type": "stream",
     "text": [
      "[Stage 52:==================================================>       (7 + 1) / 8]\r"
     ]
    },
    {
     "name": "stdout",
     "output_type": "stream",
     "text": [
      "41428 registros sin duplicados\n"
     ]
    },
    {
     "name": "stderr",
     "output_type": "stream",
     "text": [
      "                                                                                \r"
     ]
    }
   ],
   "source": [
    "df_sin_dupl = df.distinct()\n",
    "print('{} registros en total'.format(df.count()))\n",
    "print('{} registros sin duplicados'.format(df_sin_dupl.count()))"
   ]
  },
  {
   "attachments": {},
   "cell_type": "markdown",
   "metadata": {},
   "source": [
    "### dropDuplicate"
   ]
  },
  {
   "cell_type": "code",
   "execution_count": 33,
   "metadata": {},
   "outputs": [],
   "source": [
    "df = spark.createDataFrame([(1, 'azul', 567),\n",
    "                            (2, 'rojo', 487),\n",
    "                            (1, 'azul', 345),\n",
    "                            (2,'verde', 783)]).toDF('id','color','importe')"
   ]
  },
  {
   "cell_type": "code",
   "execution_count": 34,
   "metadata": {},
   "outputs": [
    {
     "name": "stderr",
     "output_type": "stream",
     "text": [
      "                                                                                \r"
     ]
    },
    {
     "name": "stdout",
     "output_type": "stream",
     "text": [
      "+---+-----+-------+\n",
      "| id|color|importe|\n",
      "+---+-----+-------+\n",
      "|  1| azul|    567|\n",
      "|  2| rojo|    487|\n",
      "|  1| azul|    345|\n",
      "|  2|verde|    783|\n",
      "+---+-----+-------+\n",
      "\n"
     ]
    }
   ],
   "source": [
    "df.show()"
   ]
  },
  {
   "cell_type": "code",
   "execution_count": 35,
   "metadata": {},
   "outputs": [
    {
     "name": "stderr",
     "output_type": "stream",
     "text": [
      "[Stage 61:>                                                       (0 + 12) / 12]\r"
     ]
    },
    {
     "name": "stdout",
     "output_type": "stream",
     "text": [
      "+---+-----+-------+\n",
      "| id|color|importe|\n",
      "+---+-----+-------+\n",
      "|  1| azul|    567|\n",
      "|  2| rojo|    487|\n",
      "|  2|verde|    783|\n",
      "+---+-----+-------+\n",
      "\n"
     ]
    },
    {
     "name": "stderr",
     "output_type": "stream",
     "text": [
      "                                                                                \r"
     ]
    }
   ],
   "source": [
    "df.dropDuplicates(['id','color']).show()"
   ]
  },
  {
   "attachments": {},
   "cell_type": "markdown",
   "metadata": {},
   "source": [
    "### sort"
   ]
  },
  {
   "cell_type": "code",
   "execution_count": 48,
   "metadata": {},
   "outputs": [],
   "source": [
    "df = spark.read.parquet('./data_2/datos.parquet').select(col('likes'),col('views'),col('video_id'),col('dislikes')).drop_duplicates(['video_id'])"
   ]
  },
  {
   "cell_type": "code",
   "execution_count": 49,
   "metadata": {},
   "outputs": [
    {
     "name": "stdout",
     "output_type": "stream",
     "text": [
      "+------+-------+--------------------+--------+\n",
      "| likes|  views|            video_id|dislikes|\n",
      "+------+-------+--------------------+--------+\n",
      "| 63995|1525400|         bAkEd8r7Nnw|     896|\n",
      "|   427|   9036|         eijd-yjXY9E|      14|\n",
      "|  4145| 318249|         npcqBt_e4k0|     110|\n",
      "|  6669| 203615|         LeWtF5y9-6Q|     136|\n",
      "|  2166| 104499|         GhcqN2FDAnA|    1066|\n",
      "| 10834| 160196|         v_CMMWCN5nQ|     162|\n",
      "| 36068| 962042|         R8WBN3fJmwM|     845|\n",
      "|   982|  36848|         oKuPJ7zF0_k|       6|\n",
      "| 26482| 713615|         B3JFSL8AA70|    2443|\n",
      "|275632|2822642|         f6Egj7ncOi8|    1444|\n",
      "| 23922| 321885|         8gE6cek7F30|     317|\n",
      "|    70|  13670|         EdkK29-TWJk|       1|\n",
      "|  1131| 120802|         8szK9FBpdPI|      92|\n",
      "| 12355| 294080|         6gFj1XJ6b5o|      80|\n",
      "|  null|   null|\\nhttp://www.Mast...|    null|\n",
      "| 12070| 233766|         wOFuVNiAJQQ|     117|\n",
      "| 21067| 210371|         PpElRBQ-yGc|     135|\n",
      "|  4609| 363194|         q11UD-6XT-8|     955|\n",
      "|   188|  31145|         IzQwbRdh5Ts|       1|\n",
      "|  2184|  74090|         IfdihPR__WI|      47|\n",
      "+------+-------+--------------------+--------+\n",
      "only showing top 20 rows\n",
      "\n"
     ]
    }
   ],
   "source": [
    "df.show()"
   ]
  },
  {
   "cell_type": "code",
   "execution_count": 38,
   "metadata": {},
   "outputs": [
    {
     "name": "stdout",
     "output_type": "stream",
     "text": [
      "+-------+--------+-----------+--------+\n",
      "|  likes|   views|   video_id|dislikes|\n",
      "+-------+--------+-----------+--------+\n",
      "|3880071|39349927|7C2z4GqqS5E|   72707|\n",
      "|2055137|13945717|kTlv5_Bs8aw|   23888|\n",
      "|2050527|10695328|OK3GJ0WIQ8s|   14711|\n",
      "|1956202|10666323|p8npDG2ulKQ|   13966|\n",
      "|1735895|37736281|6ZfuNTqbHE8|   21969|\n",
      "|1634124|33523622|2Vv-BfVoq4g|   21082|\n",
      "|1572997| 7518332|kX0vO4vlJuU|    8113|\n",
      "|1437859| 5884233|D_6QmL6rExk|    6390|\n",
      "|1405355|31648454|VYOjWnS4cMY|   51547|\n",
      "|1401915| 5275672|8O_MwlZ2dEg|    6268|\n",
      "|1386616|15873034|ffxKSjUwKdU|   40714|\n",
      "|1366736|16884972|J2HytHu5VBI|   59930|\n",
      "|1290509| 6416697|2tDKp41nrw8|    4358|\n",
      "|1207457|13754992|_5d-sQ7Fh5M|  280675|\n",
      "|1167488| 8041970|oWjxSkJpxFU|  147643|\n",
      "|1149185|24782158|FlsCjmMhFmw|  483924|\n",
      "|1111592|38873543|i0p1bmr0EmE|   96407|\n",
      "|1065777|14089954|dfnCAmr569k|   47839|\n",
      "| 983693|14820746|tCXGJQYZ9JA|   44254|\n",
      "| 975715|19716689|QwievZ1Tx-8|    9118|\n",
      "+-------+--------+-----------+--------+\n",
      "only showing top 20 rows\n",
      "\n"
     ]
    }
   ],
   "source": [
    "df.sort(desc('likes')).show()"
   ]
  },
  {
   "attachments": {},
   "cell_type": "markdown",
   "metadata": {},
   "source": [
    "### orderBy"
   ]
  },
  {
   "cell_type": "code",
   "execution_count": 40,
   "metadata": {},
   "outputs": [
    {
     "name": "stdout",
     "output_type": "stream",
     "text": [
      "+-------+--------+-----------+--------+\n",
      "|  likes|   views|   video_id|dislikes|\n",
      "+-------+--------+-----------+--------+\n",
      "| 609101|48431654|-BQJo3vK8O8|   52259|\n",
      "|3880071|39349927|7C2z4GqqS5E|   72707|\n",
      "|1111592|38873543|i0p1bmr0EmE|   96407|\n",
      "|1735895|37736281|6ZfuNTqbHE8|   21969|\n",
      "|1634124|33523622|2Vv-BfVoq4g|   21082|\n",
      "|1405355|31648454|VYOjWnS4cMY|   51547|\n",
      "| 850362|27973210|u9Mv98Gr5pY|   26541|\n",
      "|1149185|24782158|FlsCjmMhFmw|  483924|\n",
      "| 641546|24421448|U9BwWKXjVaI|   16517|\n",
      "| 587326|23758250|1J76wN0TPI4|   18799|\n",
      "|      0|20921796|BhIEIO0vaBE|       0|\n",
      "| 975715|19716689|QwievZ1Tx-8|    9118|\n",
      "| 511753|18639195|rRr1qiJRsXk|   15606|\n",
      "| 754791|18195959|rRzxEiBLQCA|   65326|\n",
      "| 399200|18184886|vn9mMeWcgoM|   17473|\n",
      "| 787419|17158531|n1WpP7iowLc|   43420|\n",
      "|1366736|16884972|J2HytHu5VBI|   59930|\n",
      "|1386616|15873034|ffxKSjUwKdU|   40714|\n",
      "| 278743|15006579|yDiXQl7grPQ|   13599|\n",
      "| 983693|14820746|tCXGJQYZ9JA|   44254|\n",
      "+-------+--------+-----------+--------+\n",
      "only showing top 20 rows\n",
      "\n"
     ]
    }
   ],
   "source": [
    "df.orderBy(col('views').desc()).show()"
   ]
  },
  {
   "cell_type": "code",
   "execution_count": 41,
   "metadata": {},
   "outputs": [],
   "source": [
    "df = spark.createDataFrame([(1, 'azul', 568),\n",
    "                            (2, 'rojo', 235),\n",
    "                            (1, 'azul', 456),\n",
    "                            (2, 'azul', 783)]).toDF('id','color','importe')"
   ]
  },
  {
   "cell_type": "code",
   "execution_count": 43,
   "metadata": {},
   "outputs": [
    {
     "name": "stdout",
     "output_type": "stream",
     "text": [
      "+---+-----+-------+\n",
      "| id|color|importe|\n",
      "+---+-----+-------+\n",
      "|  2| rojo|    235|\n",
      "|  1| azul|    456|\n",
      "|  1| azul|    568|\n",
      "|  2| azul|    783|\n",
      "+---+-----+-------+\n",
      "\n"
     ]
    }
   ],
   "source": [
    "df.orderBy(col('color').desc(), col('importe')).show()"
   ]
  },
  {
   "attachments": {},
   "cell_type": "markdown",
   "metadata": {},
   "source": [
    "### limit"
   ]
  },
  {
   "cell_type": "code",
   "execution_count": 50,
   "metadata": {},
   "outputs": [],
   "source": [
    "df = spark.read.parquet('./data_2/datos.parquet').select(col('likes'),col('views'),col('video_id'),col('dislikes')).drop_duplicates(['video_id'])"
   ]
  },
  {
   "cell_type": "code",
   "execution_count": 51,
   "metadata": {},
   "outputs": [
    {
     "name": "stdout",
     "output_type": "stream",
     "text": [
      "+-------+--------+-----------+--------+\n",
      "|  likes|   views|   video_id|dislikes|\n",
      "+-------+--------+-----------+--------+\n",
      "| 609101|48431654|-BQJo3vK8O8|   52259|\n",
      "|3880071|39349927|7C2z4GqqS5E|   72707|\n",
      "|1111592|38873543|i0p1bmr0EmE|   96407|\n",
      "|1735895|37736281|6ZfuNTqbHE8|   21969|\n",
      "|1634124|33523622|2Vv-BfVoq4g|   21082|\n",
      "|1405355|31648454|VYOjWnS4cMY|   51547|\n",
      "| 850362|27973210|u9Mv98Gr5pY|   26541|\n",
      "|1149185|24782158|FlsCjmMhFmw|  483924|\n",
      "| 641546|24421448|U9BwWKXjVaI|   16517|\n",
      "| 587326|23758250|1J76wN0TPI4|   18799|\n",
      "+-------+--------+-----------+--------+\n",
      "\n"
     ]
    }
   ],
   "source": [
    "df.orderBy(col('views').desc()).limit(10).show()"
   ]
  },
  {
   "cell_type": "code",
   "execution_count": null,
   "metadata": {},
   "outputs": [],
   "source": []
  }
 ],
 "metadata": {
  "kernelspec": {
   "display_name": "Python 3",
   "language": "python",
   "name": "python3"
  },
  "language_info": {
   "codemirror_mode": {
    "name": "ipython",
    "version": 3
   },
   "file_extension": ".py",
   "mimetype": "text/x-python",
   "name": "python",
   "nbconvert_exporter": "python",
   "pygments_lexer": "ipython3",
   "version": "3.10.7"
  },
  "orig_nbformat": 4,
  "vscode": {
   "interpreter": {
    "hash": "e7370f93d1d0cde622a1f8e1c04877d8463912d04d973331ad4851f04de6915a"
   }
  }
 },
 "nbformat": 4,
 "nbformat_minor": 2
}
